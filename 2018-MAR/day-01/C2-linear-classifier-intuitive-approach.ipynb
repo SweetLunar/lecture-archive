{
 "cells": [
  {
   "cell_type": "markdown",
   "metadata": {},
   "source": [
    "<br>\n",
    "<font color='#7aa05d' />\n",
    "\n",
    "[ 영화 결제 감상 기록 ] <br>\n",
    " <br>\n",
    " \n",
    "|년도|감상|예년 대비 증가|\n",
    "|-|\n",
    "|2015년|40|$i_{0}$|\n",
    "|2016년|42|$i_{1}$|\n",
    "|2017년|44|$i_{2}$|\n",
    "|2018년|46|$i_{3}$|\n",
    "<br>"
   ]
  },
  {
   "cell_type": "code",
   "execution_count": null,
   "metadata": {},
   "outputs": [],
   "source": [
    "# 정답치 (ground-truth, labled value, y)\n",
    "t = 40\n",
    "\n",
    "# 모델에 의한 예측치 (predicted value)\n",
    "p = 10 + 10*0 \n",
    "\n",
    "# 오차 함수 : 정답값과 예측값의 차이\n",
    "# 여기서는 단순히 정답 - 예측으로 정의\n",
    "error = t - p\n",
    "\n",
    "# 현재 오차 (error or loss) 출력\n",
    "print('error : ', error)       "
   ]
  },
  {
   "cell_type": "code",
   "execution_count": null,
   "metadata": {},
   "outputs": [],
   "source": [
    "t = 40\n",
    "p = 20 + 20*0 \n",
    "error = t - p\n",
    "print('error : ', error)       "
   ]
  },
  {
   "cell_type": "code",
   "execution_count": null,
   "metadata": {},
   "outputs": [],
   "source": [
    "# t = 정답치\n",
    "# p = 모델 결과\n",
    "# w0, w1 = 가중치\n",
    "# r 계산할 고객의 가입 년차\n",
    "def compute_error(t, w0, w1, r):\n",
    "    p = w0 + w1 * r \n",
    "    error = t - p\n",
    "    return error\n",
    "    \n",
    "compute_error(40, 20, 20, 0) "
   ]
  },
  {
   "cell_type": "code",
   "execution_count": null,
   "metadata": {},
   "outputs": [],
   "source": [
    "compute_error(40, 65, 65, 0)"
   ]
  },
  {
   "cell_type": "code",
   "execution_count": null,
   "metadata": {
    "scrolled": false
   },
   "outputs": [],
   "source": [
    "lr = 0.5            # 학습률\n",
    "step = 0            # 반복 스텝\n",
    "until = 100         # 무한 반복 방지 안전 장치\n",
    "epsilon = 0.0001    # 허용 오차 \n",
    "\n",
    "w0 = 65\n",
    "error = compute_error(40, w0, 65, 0)  # 처음 시작 상태\n",
    "\n",
    "# 최적화 과정\n",
    "while abs(error) > epsilon:\n",
    "    error = compute_error(40, w0, 65, 0)\n",
    "    print('step[%d] error: %.3f,   w0: %.3f' % (step, error, w0))\n",
    "\n",
    "    w0 += lr * error\n",
    "    step += 1\n",
    "    \n",
    "    if step > until: \n",
    "        break"
   ]
  },
  {
   "cell_type": "code",
   "execution_count": null,
   "metadata": {
    "scrolled": true
   },
   "outputs": [],
   "source": [
    "lr = 0.5            # 학습률\n",
    "step = 0            # 반복 스텝\n",
    "until = 100         # 무한 반복 방지 안전 장치\n",
    "epsilon = 0.0001    # 허용 오차 \n",
    "\n",
    "r = 3        # 2018년 고객의 3년차 기준\n",
    "t = 46       # 2018년 고객은 46편의 구매\n",
    "w0 = 40      # w0은 적어도 2015년에 대해 정확한 값을 찾음. (편의상 전체 년도에 대해 값을 찾았다고 하겠습니다.)\n",
    "w1 = 65      # 아직 찾아야 할 가중치\n",
    "error = compute_error(t, w0, w1, r)  # 처음 시작 상태\n",
    "\n",
    "while abs(error) > epsilon:\n",
    "    error = compute_error(t, w0, w1, r)\n",
    "    print('step[%d] error: %.3f,   w1: %.3f' % (step, error, w1))\n",
    "\n",
    "    w1 += lr * error\n",
    "    step += 1\n",
    "    \n",
    "    if step > until: \n",
    "        break"
   ]
  }
 ],
 "metadata": {
  "kernelspec": {
   "display_name": "Python 3",
   "language": "python",
   "name": "python3"
  },
  "language_info": {
   "codemirror_mode": {
    "name": "ipython",
    "version": 3
   },
   "file_extension": ".py",
   "mimetype": "text/x-python",
   "name": "python",
   "nbconvert_exporter": "python",
   "pygments_lexer": "ipython3",
   "version": "3.5.2"
  }
 },
 "nbformat": 4,
 "nbformat_minor": 1
}
