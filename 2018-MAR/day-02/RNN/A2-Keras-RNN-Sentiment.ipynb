{
 "cells": [
  {
   "cell_type": "code",
   "execution_count": null,
   "metadata": {},
   "outputs": [],
   "source": [
    "from keras.preprocessing import sequence\n",
    "from keras.layers.core import Activation, Dense, Dropout, SpatialDropout1D\n",
    "from keras.models import Sequential\n",
    "from keras.layers.recurrent import LSTM\n",
    "from keras.layers.embeddings import Embedding\n",
    "from sklearn.model_selection import train_test_split\n",
    "\n",
    "import os\n",
    "import collections\n",
    "import numpy as np\n",
    "import matplotlib.pyplot as plt\n",
    "\n",
    "import nltk"
   ]
  },
  {
   "cell_type": "code",
   "execution_count": 2,
   "metadata": {
    "collapsed": true
   },
   "outputs": [],
   "source": [
    "def analysis_text(text):\n",
    "    num_lines = 0\n",
    "    max_sentence_len = 0\n",
    "    word_freqs = collections.Counter()\n",
    "    \n",
    "    for line in text:\n",
    "        label, sentence = line.strip().split(\"\\t\")\n",
    "        words = nltk.word_tokenize(sentence.lower())\n",
    "        if len(words) > max_sentence_len:\n",
    "            max_sentence_len = len(words)\n",
    "        for word in words:\n",
    "            word_freqs[word] += 1\n",
    "        num_lines += 1\n",
    "    return max_sentence_len, word_freqs, num_lines"
   ]
  },
  {
   "cell_type": "code",
   "execution_count": 3,
   "metadata": {
    "collapsed": true
   },
   "outputs": [],
   "source": [
    "file_path = os.path.join(os.getcwd(), \"rnn-sentiment-training.txt\")\n",
    "\n",
    "with open(file_path, 'r') as train_data:\n",
    "    max_len, word_freqs, num_lines = analysis_text(train_data)  "
   ]
  },
  {
   "cell_type": "code",
   "execution_count": 4,
   "metadata": {
    "scrolled": false
   },
   "outputs": [
    {
     "name": "stdout",
     "output_type": "stream",
     "text": [
      "('lines :', 7086)\n",
      "('max word count in sentence:', 42)\n",
      "('unique word count:', 2329)\n"
     ]
    }
   ],
   "source": [
    "print('lines :', num_lines)\n",
    "print('max word count in sentence:', max_len)\n",
    "print('unique word count:', len(word_freqs))"
   ]
  },
  {
   "cell_type": "code",
   "execution_count": 5,
   "metadata": {
    "collapsed": true
   },
   "outputs": [],
   "source": [
    "MAX_FEATURES = 2000\n",
    "MAX_SENTENCE_LENGTH = 40\n",
    "\n",
    "vocab_size = min(MAX_FEATURES, len(word_freqs)) + 2\n",
    "\n",
    "word_to_index = { x[0]: i+2 for i, x in enumerate(word_freqs.most_common(MAX_FEATURES)) }\n",
    "word_to_index[\"PAD\"] = 0\n",
    "word_to_index[\"UNK\"] = 1\n",
    "\n",
    "index_to_word = { v:k for k, v in word_to_index.items() }"
   ]
  },
  {
   "cell_type": "code",
   "execution_count": 6,
   "metadata": {},
   "outputs": [],
   "source": [
    "X = np.empty((num_lines,), dtype=list)\n",
    "y = np.zeros((num_lines))\n",
    "\n",
    "i = 0\n",
    "unknown_idx = word_to_index[\"UNK\"]\n",
    "with open(file_path, 'r') as train_data:\n",
    "    for line in train_data:\n",
    "        label, sentence = line.strip().split(\"\\t\")\n",
    "        words = nltk.word_tokenize(sentence.lower())\n",
    "        seqs = []\n",
    "        for word in words:\n",
    "            if word in word_to_index:\n",
    "                seqs.append(word_to_index[word])\n",
    "            else:\n",
    "                seqs.append(unknown_idx)\n",
    "        X[i] = seqs\n",
    "        y[i] = int(label)\n",
    "        i += 1\n",
    "\n",
    "X = sequence.pad_sequences(X, maxlen=MAX_SENTENCE_LENGTH)"
   ]
  },
  {
   "cell_type": "code",
   "execution_count": 7,
   "metadata": {},
   "outputs": [
    {
     "name": "stdout",
     "output_type": "stream",
     "text": [
      "PAD PAD PAD PAD PAD PAD PAD PAD PAD PAD PAD PAD PAD PAD PAD PAD PAD PAD PAD PAD PAD PAD PAD PAD PAD PAD PAD PAD PAD PAD PAD the da vinci code book is just awesome . "
     ]
    }
   ],
   "source": [
    "sample = X[0]\n",
    "\n",
    "from __future__ import print_function\n",
    "for c in sample:\n",
    "    print(index_to_word[c], end=' ')"
   ]
  },
  {
   "cell_type": "code",
   "execution_count": 8,
   "metadata": {},
   "outputs": [
    {
     "name": "stdout",
     "output_type": "stream",
     "text": [
      "(5668, 40) (5668,)\n",
      "(1418, 40) (1418,)\n"
     ]
    }
   ],
   "source": [
    "X_train, X_test, y_train, y_test = train_test_split(X, y, test_size=0.2, random_state=17)\n",
    "print(X_train.shape, y_train.shape)\n",
    "print(X_test.shape, y_test.shape)"
   ]
  },
  {
   "cell_type": "code",
   "execution_count": 9,
   "metadata": {
    "collapsed": true
   },
   "outputs": [],
   "source": [
    "BATCH_SIZE = 32\n",
    "NUM_HIDDEN = 64\n",
    "NUM_EMBEDDING = 128\n",
    "NUM_EPOCHS = 10"
   ]
  },
  {
   "cell_type": "code",
   "execution_count": 10,
   "metadata": {},
   "outputs": [
    {
     "name": "stdout",
     "output_type": "stream",
     "text": [
      "_________________________________________________________________\n",
      "Layer (type)                 Output Shape              Param #   \n",
      "=================================================================\n",
      "embedding_1 (Embedding)      (None, 40, 128)           256256    \n",
      "_________________________________________________________________\n",
      "spatial_dropout1d_1 (Spatial (None, 40, 128)           0         \n",
      "_________________________________________________________________\n",
      "lstm_1 (LSTM)                (None, 64)                49408     \n",
      "_________________________________________________________________\n",
      "dense_1 (Dense)              (None, 1)                 65        \n",
      "_________________________________________________________________\n",
      "activation_1 (Activation)    (None, 1)                 0         \n",
      "=================================================================\n",
      "Total params: 305,729\n",
      "Trainable params: 305,729\n",
      "Non-trainable params: 0\n",
      "_________________________________________________________________\n"
     ]
    }
   ],
   "source": [
    "model = Sequential()\n",
    "model.add(Embedding(vocab_size, NUM_EMBEDDING, input_length=MAX_SENTENCE_LENGTH))\n",
    "model.add(SpatialDropout1D(Dropout(0.2)))\n",
    "model.add(LSTM(NUM_HIDDEN, dropout=0.2, recurrent_dropout=0.2))\n",
    "model.add(Dense(1))\n",
    "model.add(Activation(\"sigmoid\"))\n",
    "\n",
    "model.summary()"
   ]
  },
  {
   "cell_type": "code",
   "execution_count": 11,
   "metadata": {
    "collapsed": true
   },
   "outputs": [],
   "source": [
    "model.compile(loss='binary_crossentropy', \n",
    "              optimizer=\"adam\", \n",
    "              metrics=[\"accuracy\"])"
   ]
  },
  {
   "cell_type": "code",
   "execution_count": 12,
   "metadata": {
    "scrolled": true
   },
   "outputs": [
    {
     "name": "stdout",
     "output_type": "stream",
     "text": [
      "Train on 5668 samples, validate on 1418 samples\n",
      "Epoch 1/10\n",
      "5668/5668 [==============================] - 8s 1ms/step - loss: 0.2342 - acc: 0.9111 - val_loss: 0.0408 - val_acc: 0.9873\n",
      "Epoch 2/10\n",
      "5668/5668 [==============================] - 7s 1ms/step - loss: 0.0286 - acc: 0.9912 - val_loss: 0.0332 - val_acc: 0.9901\n",
      "Epoch 3/10\n",
      "5668/5668 [==============================] - 7s 1ms/step - loss: 0.0079 - acc: 0.9982 - val_loss: 0.0300 - val_acc: 0.9908\n",
      "Epoch 4/10\n",
      "5668/5668 [==============================] - 7s 1ms/step - loss: 0.0085 - acc: 0.9975 - val_loss: 0.0319 - val_acc: 0.9873\n",
      "Epoch 5/10\n",
      "5668/5668 [==============================] - 7s 1ms/step - loss: 0.0053 - acc: 0.9984 - val_loss: 0.0327 - val_acc: 0.9922\n",
      "Epoch 6/10\n",
      "5668/5668 [==============================] - 7s 1ms/step - loss: 0.0027 - acc: 0.9993 - val_loss: 0.0379 - val_acc: 0.9901\n",
      "Epoch 7/10\n",
      "5668/5668 [==============================] - 7s 1ms/step - loss: 0.0013 - acc: 0.9996 - val_loss: 0.0373 - val_acc: 0.9908\n",
      "Epoch 8/10\n",
      "5668/5668 [==============================] - 7s 1ms/step - loss: 0.0022 - acc: 0.9991 - val_loss: 0.0407 - val_acc: 0.9873\n",
      "Epoch 9/10\n",
      "5668/5668 [==============================] - 7s 1ms/step - loss: 0.0010 - acc: 0.9996 - val_loss: 0.0340 - val_acc: 0.9922\n",
      "Epoch 10/10\n",
      "5668/5668 [==============================] - 7s 1ms/step - loss: 7.6310e-04 - acc: 0.9998 - val_loss: 0.0453 - val_acc: 0.9915\n"
     ]
    }
   ],
   "source": [
    "history = model.fit(X_train, \n",
    "                    y_train, \n",
    "                    batch_size=BATCH_SIZE,\n",
    "                    epochs=NUM_EPOCHS, \n",
    "                    validation_data=(X_test, y_test))"
   ]
  },
  {
   "cell_type": "code",
   "execution_count": 13,
   "metadata": {
    "scrolled": false
   },
   "outputs": [
    {
     "data": {
      "image/png": "[encoded data removed]",
      "text/plain": [
       "<matplotlib.figure.Figure at 0x7f3fd47e1350>"
      ]
     },
     "metadata": {},
     "output_type": "display_data"
    },
    {
     "data": {
      "image/png": "[encoded data removed]",
      "text/plain": [
       "<matplotlib.figure.Figure at 0x7f3fee10ca90>"
      ]
     },
     "metadata": {},
     "output_type": "display_data"
    }
   ],
   "source": [
    "plt.plot(history.history['acc'])\n",
    "plt.plot(history.history['val_acc'])\n",
    "plt.title('model accuracy')\n",
    "plt.ylabel('accuracy')\n",
    "plt.xlabel('epoch')\n",
    "plt.legend(['train', 'val'], loc='upper left')\n",
    "plt.show()\n",
    "\n",
    "plt.plot(history.history['loss'])\n",
    "plt.plot(history.history['val_loss'])\n",
    "plt.title('model loss')\n",
    "plt.ylabel('loss')\n",
    "plt.xlabel('epoch')\n",
    "plt.legend(['train', 'val'], loc='upper left')\n",
    "plt.show()"
   ]
  },
  {
   "cell_type": "code",
   "execution_count": 14,
   "metadata": {},
   "outputs": [
    {
     "name": "stdout",
     "output_type": "stream",
     "text": [
      "1418/1418 [==============================] - 0s 222us/step\n",
      "Test loss: 0.04528459170743743\n",
      "Test accuracy: 0.9915373765867419\n",
      "\n",
      "\n",
      "[Prediction vs Truth] \t Target Sentence\n",
      "[0.000 vs 0] \t this quiz sucks and harry potter sucks ok bye..\n",
      "[0.000 vs 0] \t ok brokeback mountain is such a horrible movie .\n",
      "[1.000 vs 1] \t mission impossible 2 rocks ! ! ... .\n",
      "[0.000 vs 0] \t friday hung out with kelsie and we went and saw the da vinci code sucked ! ! ! ! !\n",
      "[0.000 vs 0] \t and that harry potter sucks because he rides on a UNK .\n"
     ]
    }
   ],
   "source": [
    "score, acc = model.evaluate(X_test, y_test, batch_size=BATCH_SIZE, verbose=1)\n",
    "print(\"Test loss:\", score)\n",
    "print(\"Test accuracy:\", acc)\n",
    "print(\"\\n\")\n",
    "print(\"[Prediction vs Truth] \\t Target Sentence\")\n",
    "\n",
    "for i in range(5):\n",
    "    idx = np.random.randint(len(X_test))\n",
    "    x_test = X_test[idx].reshape(1,40)\n",
    "    label = y_test[idx]\n",
    "    pred = model.predict(x_test)[0][0]\n",
    "    p = \" \".join([index_to_word[x] for x in x_test[0].tolist() if x != 0])\n",
    "    print(\"[%.03f vs %d] \\t %s\" % (pred, label, p))"
   ]
  }
 ],
 "metadata": {
  "kernelspec": {
   "display_name": "Python 2",
   "language": "python",
   "name": "python2"
  },
  "language_info": {
   "codemirror_mode": {
    "name": "ipython",
    "version": 2
   },
   "file_extension": ".py",
   "mimetype": "text/x-python",
   "name": "python",
   "nbconvert_exporter": "python",
   "pygments_lexer": "ipython2",
   "version": "2.7.12"
  }
 },
 "nbformat": 4,
 "nbformat_minor": 2
}
