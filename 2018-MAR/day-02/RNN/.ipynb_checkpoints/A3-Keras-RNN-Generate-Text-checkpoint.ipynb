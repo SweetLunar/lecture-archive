{
 "cells": [
  {
   "cell_type": "code",
   "execution_count": null,
   "metadata": {
    "collapsed": true
   },
   "outputs": [],
   "source": [
    "from keras.models import Sequential\n",
    "from keras.layers.core import Activation, Dense, Dropout\n",
    "from keras.optimizers import RMSprop\n",
    "from keras.layers.recurrent import LSTM\n",
    "from keras.layers.embeddings import Embedding\n",
    "from keras.callbacks import LambdaCallback\n",
    "from sklearn.model_selection import train_test_split\n",
    "\n",
    "import re\n",
    "import nltk\n",
    "import string\n",
    "import os, codecs\n",
    "import collections\n",
    "import numpy as np\n",
    "import matplotlib.pyplot as plt"
   ]
  },
  {
   "cell_type": "code",
   "execution_count": null,
   "metadata": {
    "collapsed": true
   },
   "outputs": [],
   "source": [
    "def analysis_text(text):\n",
    "    num_lines = 0\n",
    "    word_seqs = []\n",
    "    word_freqs = collections.Counter()\n",
    "    \n",
    "    for line in text:\n",
    "        sentence = line.strip().split(\"\\t\")[0]\n",
    "        words = nltk.word_tokenize(sentence.lower())\n",
    "        for word in words:\n",
    "            if not re.match(r'^\\w+$', word):\n",
    "                continue\n",
    "            word_seqs.append(word)\n",
    "            word_freqs[word] += 1\n",
    "        num_lines += 1\n",
    "    return word_freqs, num_lines, word_seqs"
   ]
  },
  {
   "cell_type": "code",
   "execution_count": null,
   "metadata": {
    "collapsed": true
   },
   "outputs": [],
   "source": [
    "with codecs.open(\"./tinyshakespear.txt\", \"r\", encoding=\"utf-8\") as f:\n",
    "    text = f.readlines()\n",
    "    word_freqs, lines, word_seqs = analysis_text(text)"
   ]
  },
  {
   "cell_type": "code",
   "execution_count": null,
   "metadata": {
    "collapsed": true
   },
   "outputs": [],
   "source": [
    "word_to_index = { word:idx for idx, word in enumerate(word_freqs) }\n",
    "index_to_word = { idx:word for word, idx in word_to_index.items() }"
   ]
  },
  {
   "cell_type": "code",
   "execution_count": null,
   "metadata": {},
   "outputs": [],
   "source": [
    "step = 3\n",
    "MAX_LEN = 10\n",
    "sentences = []\n",
    "next_words = []\n",
    "\n",
    "demo_step = 0\n",
    "for i in range(0, len(word_seqs)-MAX_LEN, step):\n",
    "    next_word = word_seqs[i+MAX_LEN]\n",
    "    seq = word_seqs[i:i+MAX_LEN]\n",
    "    \n",
    "    if demo_step < 10:\n",
    "        print(seq)\n",
    "        print(next_word)\n",
    "        demo_step += 1\n",
    "    \n",
    "    sentences.append(seq)\n",
    "    next_words.append(next_word)"
   ]
  },
  {
   "cell_type": "code",
   "execution_count": null,
   "metadata": {},
   "outputs": [],
   "source": [
    "num_words = len(word_freqs)    \n",
    "num_sentences = len(sentences)\n",
    "print('words count ', num_words)\n",
    "print('sentences count ', num_sentences)"
   ]
  },
  {
   "cell_type": "code",
   "execution_count": null,
   "metadata": {
    "collapsed": true
   },
   "outputs": [],
   "source": [
    "X = np.zeros((num_sentences, MAX_LEN, num_words), dtype=np.bool)\n",
    "y = np.zeros((num_sentences, num_words), dtype=np.bool)\n",
    "\n",
    "for i, sentence in enumerate(sentences):\n",
    "    for j, word in enumerate(sentence):\n",
    "        X[i, j, word_to_index[word]] = 1  \n",
    "    y[i, word_to_index[next_words[i]]] = 1"
   ]
  },
  {
   "cell_type": "code",
   "execution_count": null,
   "metadata": {
    "collapsed": true
   },
   "outputs": [],
   "source": [
    "BATCH_SIZE = 32\n",
    "NUM_HIDDEN = 128\n",
    "NUM_EMBEDDING = 128\n",
    "NUM_EPOCHS = 10\n",
    "\n",
    "Optimizer = RMSprop(lr=0.01)"
   ]
  },
  {
   "cell_type": "code",
   "execution_count": null,
   "metadata": {},
   "outputs": [],
   "source": [
    "model = Sequential()\n",
    "model.add(LSTM(NUM_HIDDEN, input_shape=(MAX_LEN, num_words)))\n",
    "model.add(Dense(num_words)) \n",
    "model.add(Activation('softmax'))\n",
    "          \n",
    "model.summary()"
   ]
  },
  {
   "cell_type": "code",
   "execution_count": null,
   "metadata": {
    "collapsed": true
   },
   "outputs": [],
   "source": [
    "model.compile(loss='categorical_crossentropy', \n",
    "              optimizer=Optimizer, \n",
    "              metrics=[\"accuracy\"]) "
   ]
  },
  {
   "cell_type": "code",
   "execution_count": null,
   "metadata": {
    "collapsed": true
   },
   "outputs": [],
   "source": [
    "def sample(preds, temperature=1.0):\n",
    "    preds = np.asarray(preds).astype('float64')\n",
    "    preds = np.log(preds) / temperature\n",
    "    exp_preds = np.exp(preds)\n",
    "    preds = exp_preds / np.sum(exp_preds)\n",
    "    probas = np.random.multinomial(1, preds, 1)\n",
    "    return np.argmax(probas)"
   ]
  },
  {
   "cell_type": "code",
   "execution_count": null,
   "metadata": {
    "collapsed": true
   },
   "outputs": [],
   "source": [
    "def on_epoch_end(epoch, logs):\n",
    "    print('Generating text after Epoch: %d' % epoch)\n",
    "    \n",
    "    random_idx = np.random.randint(0, len(word_seqs)-MAX_LEN-1)\n",
    "    for diversity in [0.2, 0.5, 1.0, 1.2]:\n",
    "        print('diversity:', diversity)\n",
    "        generated = ''\n",
    "        text = string.join(word_seqs[random_idx:random_idx+MAX_LEN])\n",
    "        generated += text\n",
    "        print('Generating with seed: \"' + text + '\"')\n",
    "\n",
    "        for i in range(400):\n",
    "            x = np.zeros((1, MAX_LEN, num_words))\n",
    "            words_iter = nltk.word_tokenize(text.lower())\n",
    "            for j, word in enumerate(words_iter):\n",
    "                x[0, j, word_to_index[word]] = 1\n",
    "\n",
    "            preds = model.predict(x, verbose=0)[0]\n",
    "            next_index = sample(preds, diversity)\n",
    "            next_word = index_to_word[next_index]\n",
    "\n",
    "            generated += \" \" + next_word\n",
    "            words = nltk.word_tokenize(text.lower())\n",
    "            words.append(next_word)\n",
    "            \n",
    "            text = string.join(words[1:])\n",
    "        print(generated)\n",
    "\n",
    "print_callback = LambdaCallback(on_epoch_end=on_epoch_end)"
   ]
  },
  {
   "cell_type": "code",
   "execution_count": null,
   "metadata": {},
   "outputs": [],
   "source": [
    "model.fit(X, y,\n",
    "          batch_size=BATCH_SIZE,\n",
    "          epochs=NUM_EPOCHS,\n",
    "          callbacks=[print_callback])"
   ]
  }
 ],
 "metadata": {
  "kernelspec": {
   "display_name": "Python 2",
   "language": "python",
   "name": "python2"
  },
  "language_info": {
   "codemirror_mode": {
    "name": "ipython",
    "version": 2
   },
   "file_extension": ".py",
   "mimetype": "text/x-python",
   "name": "python",
   "nbconvert_exporter": "python",
   "pygments_lexer": "ipython2",
   "version": "2.7.12"
  }
 },
 "nbformat": 4,
 "nbformat_minor": 2
}
