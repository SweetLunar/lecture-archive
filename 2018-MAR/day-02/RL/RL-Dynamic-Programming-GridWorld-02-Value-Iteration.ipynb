{
 "cells": [
  {
   "cell_type": "code",
   "execution_count": null,
   "metadata": {
    "collapsed": true
   },
   "outputs": [],
   "source": [
    "from __future__ import division\n",
    "from __future__ import print_function\n",
    "from __future__ import absolute_import"
   ]
  },
  {
   "cell_type": "code",
   "execution_count": null,
   "metadata": {
    "collapsed": true
   },
   "outputs": [],
   "source": [
    "def make_table(width, height, value=[0.00]):\n",
    "    return [value * width for _ in range(height)] "
   ]
  },
  {
   "cell_type": "code",
   "execution_count": null,
   "metadata": {
    "collapsed": true
   },
   "outputs": [],
   "source": [
    "def make_uniform_dist(num):\n",
    "    return [1/num] * num"
   ]
  },
  {
   "cell_type": "code",
   "execution_count": null,
   "metadata": {
    "collapsed": true
   },
   "outputs": [],
   "source": [
    "import queue as Q\n",
    "\n",
    "class MaxPriorityQueue(Q.PriorityQueue):\n",
    "    def inverse_first(self, item):\n",
    "        return (-1*item[0], item[1])\n",
    "        \n",
    "    def get(self, block=True, timeout=None):\n",
    "        item = super(MaxPriorityQueue, self).get()\n",
    "        return self.inverse_first(item)\n",
    "    \n",
    "    def put(self, item, block=True, timeout=None):\n",
    "        item = self.inverse_first(item)\n",
    "        super(MaxPriorityQueue, self).put(item) \n",
    "        \n",
    "    def max_idxs(self):\n",
    "        idxs, top = [], None\n",
    "        while not self.empty():\n",
    "            item = self.get()\n",
    "            if top == None:\n",
    "                top = item\n",
    "            if top[0] > item[0]:\n",
    "                return idxs\n",
    "            idxs.append(item[1])\n",
    "        return idxs"
   ]
  },
  {
   "cell_type": "code",
   "execution_count": null,
   "metadata": {},
   "outputs": [],
   "source": [
    "mq = MaxPriorityQueue()\n",
    "mq.put((3, 1))\n",
    "mq.put((9, 3))\n",
    "mq.put((6, 0))\n",
    "mq.put((0, 2))\n",
    "mq.max_idxs()"
   ]
  },
  {
   "cell_type": "code",
   "execution_count": null,
   "metadata": {
    "collapsed": true
   },
   "outputs": [],
   "source": [
    "from environment_value import GraphicDisplay, Env"
   ]
  },
  {
   "cell_type": "code",
   "execution_count": null,
   "metadata": {
    "collapsed": true
   },
   "outputs": [],
   "source": [
    "class ValueIteration:\n",
    "    def __init__(self, env):\n",
    "        self.env = env\n",
    "        self.discount_factor = 0.9\n",
    "        self.value_table = make_table(env.width, env.height)\n",
    "    \n",
    "    def is_final_state(self, state):\n",
    "        return state == [2, 2]\n",
    "        \n",
    "    def get_value(self, state):\n",
    "        return round(self.value_table[state[0]][state[1]], 2)\n",
    "    \n",
    "    def get_value_to_action(self, state):\n",
    "        value_to_action = MaxPriorityQueue()\n",
    "        for action in env.possible_actions:\n",
    "            next_state, next_value, reward = self.interact_env(state, action)\n",
    "            value = reward + self.discount_factor*next_value\n",
    "            value_to_action.put((value, action))\n",
    "        return value_to_action\n",
    "        \n",
    "    def interact_env(self, state, action):\n",
    "        next_state = self.env.state_after_action(state, action)\n",
    "        next_value = self.get_value(next_state)\n",
    "        reward = self.env.get_reward(state, action)\n",
    "        return next_state, next_value, reward\n",
    "    \n",
    "    def get_action(self, state):\n",
    "        if self.is_final_state(state):\n",
    "            return []\n",
    "        \n",
    "        value_to_action = self.get_value_to_action(state)\n",
    "        return value_to_action.max_idxs()\n",
    "    \n",
    "    def value_iteration(self):\n",
    "        env = self.env\n",
    "        next_value_table = make_table(env.width, env.height)\n",
    "        \n",
    "        def update_next_value(state, value):\n",
    "            next_value_table[state[0]][state[1]] = value\n",
    "        \n",
    "        for state in env.get_all_states():\n",
    "            if self.is_final_state(state):\n",
    "                update_next_value(state, 0)\n",
    "                continue\n",
    "\n",
    "            value_to_action = self.get_value_to_action(state)\n",
    "            optimal_value = value_to_action.get()[0]\n",
    "            update_next_value(state, round(optimal_value, 2))\n",
    "        \n",
    "        self.value_table = next_value_table"
   ]
  },
  {
   "cell_type": "code",
   "execution_count": null,
   "metadata": {},
   "outputs": [],
   "source": [
    "env = Env()\n",
    "value_iteration = ValueIteration(env)\n",
    "grid_world = GraphicDisplay(value_iteration)\n",
    "grid_world.mainloop()"
   ]
  }
 ],
 "metadata": {
  "kernelspec": {
   "display_name": "Python 3",
   "language": "python",
   "name": "python3"
  },
  "language_info": {
   "codemirror_mode": {
    "name": "ipython",
    "version": 3
   },
   "file_extension": ".py",
   "mimetype": "text/x-python",
   "name": "python",
   "nbconvert_exporter": "python",
   "pygments_lexer": "ipython3",
   "version": "3.5.2"
  }
 },
 "nbformat": 4,
 "nbformat_minor": 2
}
