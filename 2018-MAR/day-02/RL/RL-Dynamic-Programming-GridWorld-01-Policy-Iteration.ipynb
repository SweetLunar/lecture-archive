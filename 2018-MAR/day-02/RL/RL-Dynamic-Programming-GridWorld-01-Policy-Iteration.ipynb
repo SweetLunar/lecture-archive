{
 "cells": [
  {
   "cell_type": "code",
   "execution_count": null,
   "metadata": {
    "collapsed": true
   },
   "outputs": [],
   "source": [
    "from __future__ import division\n",
    "from __future__ import print_function\n",
    "from __future__ import absolute_import"
   ]
  },
  {
   "cell_type": "code",
   "execution_count": null,
   "metadata": {
    "collapsed": true
   },
   "outputs": [],
   "source": [
    "def make_table(width, height, value=[0.00]):\n",
    "    return [value * width for _ in range(height)] "
   ]
  },
  {
   "cell_type": "code",
   "execution_count": null,
   "metadata": {
    "collapsed": true
   },
   "outputs": [],
   "source": [
    "# Notice! 'from __future__ import division'\n",
    "def make_uniform_dist(num):\n",
    "    return [1/num] * num"
   ]
  },
  {
   "cell_type": "code",
   "execution_count": null,
   "metadata": {
    "collapsed": true
   },
   "outputs": [],
   "source": [
    "import numpy as np\n",
    "from environment_policy  import GraphicDisplay, Env"
   ]
  },
  {
   "cell_type": "code",
   "execution_count": null,
   "metadata": {
    "collapsed": true
   },
   "outputs": [],
   "source": [
    "class PolicyIteration:\n",
    "    def __init__(self, env):\n",
    "        self.env = env\n",
    "        \n",
    "        self.value_table = make_table(env.width, env.height)\n",
    "        \n",
    "        prob_actions = make_uniform_dist(4)\n",
    "        self.policy_table = make_table(env.width, env.height, [prob_actions])\n",
    "        \n",
    "        self.discount_factor = 0.9\n",
    "        \n",
    "        self.policy_table[2][2] = [] \n",
    "    \n",
    "    def is_final_state(self, state):\n",
    "        return state == [2, 2]\n",
    "    \n",
    "    def get_policy(self, state):\n",
    "        if self.is_final_state(state):\n",
    "            return 0.0\n",
    "        return self.policy_table[state[0]][state[1]]\n",
    "    \n",
    "    def get_action(self, state):\n",
    "        state_policy = self.get_policy(state)\n",
    "        action_idx = np.random.choice([0,1,2,3], 1, p=state_policy)[0]\n",
    "        return action_idx\n",
    "        \n",
    "    def get_value(self, state):\n",
    "        return round(self.value_table[state[0]][state[1]], 2)\n",
    "        \n",
    "    def interact_env(self, state, action):\n",
    "        next_state = self.env.state_after_action(state, action)\n",
    "        next_value = self.get_value(next_state)\n",
    "        reward = self.env.get_reward(state, action)\n",
    "        return next_state, next_value, reward\n",
    "    \n",
    "    def policy_evaluation(self):\n",
    "        env = self.env\n",
    "        next_value_table = make_table(env.width, env.height)\n",
    "        \n",
    "        def update_next_value(state, value):\n",
    "            next_value_table[state[0]][state[1]] = value\n",
    "        \n",
    "        for state in env.get_all_states():\n",
    "            if self.is_final_state(state):\n",
    "                update_next_value(state, 0)\n",
    "                continue\n",
    "\n",
    "            value = 0.0\n",
    "            for action in env.possible_actions:\n",
    "                next_state, next_value, reward = self.interact_env(state, action)\n",
    "                prob_action = self.get_policy(state)[action]\n",
    "                value += prob_action * (reward + self.discount_factor*next_value)\n",
    "            update_next_value(state, round(value, 2))\n",
    "        \n",
    "        self.value_table = next_value_table\n",
    "    \n",
    "    def policy_improvement(self):\n",
    "        env = self.env\n",
    "        \n",
    "        def update_next_policy(state, value):\n",
    "            self.policy_table[state[0]][state[1]] = value\n",
    "            \n",
    "        for state in env.get_all_states():\n",
    "            if self.is_final_state(state):\n",
    "                continue\n",
    "\n",
    "            best_value = -999999\n",
    "            best_actions = []  \n",
    "            next_state_policy = [0.0, 0.0, 0.0, 0.0]\n",
    "            for idx, action in enumerate(env.possible_actions):\n",
    "                next_state, next_value, reward = self.interact_env(state, action)\n",
    "                action_value = reward + self.discount_factor * next_value\n",
    "                \n",
    "                if action_value == best_value:\n",
    "                    best_actions.append(idx)\n",
    "                elif action_value > best_value:\n",
    "                    best_value = action_value\n",
    "                    best_actions.clear()\n",
    "                    best_actions.append(idx)\n",
    "            \n",
    "            prob_best_action = 1 / len(best_actions)\n",
    "            for idx in best_actions:\n",
    "                next_state_policy[idx] = prob_best_action\n",
    "            \n",
    "            update_next_policy(state, next_state_policy)"
   ]
  },
  {
   "cell_type": "code",
   "execution_count": null,
   "metadata": {},
   "outputs": [],
   "source": [
    "env = Env()\n",
    "policy_iteration = PolicyIteration(env)\n",
    "grid_world = GraphicDisplay(policy_iteration)\n",
    "grid_world.mainloop()"
   ]
  }
 ],
 "metadata": {
  "kernelspec": {
   "display_name": "Python 3",
   "language": "python",
   "name": "python3"
  },
  "language_info": {
   "codemirror_mode": {
    "name": "ipython",
    "version": 3
   },
   "file_extension": ".py",
   "mimetype": "text/x-python",
   "name": "python",
   "nbconvert_exporter": "python",
   "pygments_lexer": "ipython3",
   "version": "3.5.2"
  }
 },
 "nbformat": 4,
 "nbformat_minor": 2
}
